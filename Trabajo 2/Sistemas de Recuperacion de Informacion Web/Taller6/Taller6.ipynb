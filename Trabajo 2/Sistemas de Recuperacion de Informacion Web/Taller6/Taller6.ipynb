{
  "nbformat": 4,
  "nbformat_minor": 0,
  "metadata": {
    "colab": {
      "private_outputs": true,
      "provenance": []
    },
    "kernelspec": {
      "name": "python3",
      "display_name": "Python 3"
    },
    "language_info": {
      "name": "python"
    }
  },
  "cells": [
    {
      "cell_type": "markdown",
      "source": [
        "Danilo Giraldo Lopez\n",
        "C.C. 1007240582"
      ],
      "metadata": {
        "id": "lEOh43T2i1Tc"
      }
    },
    {
      "cell_type": "code",
      "execution_count": null,
      "metadata": {
        "id": "BufSjfG1ixsa"
      },
      "outputs": [],
      "source": [
        "!pip install scrapy\n",
        "!scrapy startproject bookscraper\n",
        "%cd bookscraper/bookscraper/spiders/\n",
        "!scrapy genspider BookSpider books.toscrape.com"
      ]
    },
    {
      "cell_type": "markdown",
      "source": [
        "Ejemplo"
      ],
      "metadata": {
        "id": "Ac8_HZFdnXaA"
      }
    },
    {
      "cell_type": "code",
      "source": [
        "!scrapy runspider BookSpider.py -O ../../ejercicio0.json"
      ],
      "metadata": {
        "id": "hZemnVm0leJk"
      },
      "execution_count": null,
      "outputs": []
    },
    {
      "cell_type": "markdown",
      "source": [
        "Ejercicio 1"
      ],
      "metadata": {
        "id": "ypb-23vDnbrv"
      }
    },
    {
      "cell_type": "code",
      "source": [
        "!scrapy genspider BookSpider1 books.toscrape.com"
      ],
      "metadata": {
        "id": "TOwoTxPmnbJE"
      },
      "execution_count": null,
      "outputs": []
    },
    {
      "cell_type": "code",
      "source": [
        "!scrapy runspider BookSpider1.py -O ../../ejercicio1.json"
      ],
      "metadata": {
        "id": "9DSdCmSDppp4"
      },
      "execution_count": null,
      "outputs": []
    },
    {
      "cell_type": "markdown",
      "source": [
        "Ejercicio 2"
      ],
      "metadata": {
        "id": "bsCfM70ipQdZ"
      }
    },
    {
      "cell_type": "code",
      "source": [
        "!scrapy genspider BookSpider2 books.toscrape.com"
      ],
      "metadata": {
        "id": "KoCqsrTgpToZ"
      },
      "execution_count": null,
      "outputs": []
    },
    {
      "cell_type": "code",
      "source": [
        "!scrapy runspider BookSpider2.py -O ../../ejercicio2.json"
      ],
      "metadata": {
        "id": "aLtPZ3OhrppJ"
      },
      "execution_count": null,
      "outputs": []
    },
    {
      "cell_type": "markdown",
      "source": [
        "Ejercicio 3"
      ],
      "metadata": {
        "id": "kHrIFLOCsLQ_"
      }
    },
    {
      "cell_type": "code",
      "source": [
        "!scrapy genspider BookSpider3 books.toscrape.com"
      ],
      "metadata": {
        "id": "7bJ-930bsMho"
      },
      "execution_count": null,
      "outputs": []
    },
    {
      "cell_type": "code",
      "source": [
        "!scrapy runspider BookSpider3.py -O ../../ejercicio3.json"
      ],
      "metadata": {
        "id": "YLg84DsUteat"
      },
      "execution_count": null,
      "outputs": []
    },
    {
      "cell_type": "markdown",
      "source": [
        "Ejercicio 4"
      ],
      "metadata": {
        "id": "UcYemuq7uD4d"
      }
    },
    {
      "cell_type": "code",
      "source": [
        "!scrapy genspider BookSpider4 books.toscrape.com"
      ],
      "metadata": {
        "id": "q2jMQOUquFM8"
      },
      "execution_count": null,
      "outputs": []
    },
    {
      "cell_type": "code",
      "source": [
        "!scrapy runspider BookSpider4.py -O ../../ejercicio4.json"
      ],
      "metadata": {
        "id": "Qkwk3fYQuRfx"
      },
      "execution_count": null,
      "outputs": []
    }
  ]
}