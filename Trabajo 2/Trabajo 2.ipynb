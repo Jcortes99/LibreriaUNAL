{
 "cells": [
  {
   "cell_type": "markdown",
   "id": "4c33f0c5",
   "metadata": {},
   "source": [
    "# Librerias"
   ]
  },
  {
   "cell_type": "code",
   "execution_count": 4,
   "id": "3e5d0ca2",
   "metadata": {},
   "outputs": [
    {
     "name": "stdout",
     "output_type": "stream",
     "text": [
      "Requirement already satisfied: scrapy in c:\\users\\usuario\\appdata\\local\\programs\\python\\python311\\lib\\site-packages (2.11.0)Note: you may need to restart the kernel to use updated packages.\n",
      "\n",
      "Requirement already satisfied: Twisted<23.8.0,>=18.9.0 in c:\\users\\usuario\\appdata\\local\\programs\\python\\python311\\lib\\site-packages (from scrapy) (22.10.0)\n",
      "Requirement already satisfied: cryptography>=36.0.0 in c:\\users\\usuario\\appdata\\local\\programs\\python\\python311\\lib\\site-packages (from scrapy) (41.0.5)\n",
      "Requirement already satisfied: cssselect>=0.9.1 in c:\\users\\usuario\\appdata\\local\\programs\\python\\python311\\lib\\site-packages (from scrapy) (1.2.0)\n",
      "Requirement already satisfied: itemloaders>=1.0.1 in c:\\users\\usuario\\appdata\\local\\programs\\python\\python311\\lib\\site-packages (from scrapy) (1.1.0)\n",
      "Requirement already satisfied: parsel>=1.5.0 in c:\\users\\usuario\\appdata\\local\\programs\\python\\python311\\lib\\site-packages (from scrapy) (1.8.1)\n",
      "Requirement already satisfied: pyOpenSSL>=21.0.0 in c:\\users\\usuario\\appdata\\local\\programs\\python\\python311\\lib\\site-packages (from scrapy) (23.3.0)\n",
      "Requirement already satisfied: queuelib>=1.4.2 in c:\\users\\usuario\\appdata\\local\\programs\\python\\python311\\lib\\site-packages (from scrapy) (1.6.2)\n",
      "Requirement already satisfied: service-identity>=18.1.0 in c:\\users\\usuario\\appdata\\local\\programs\\python\\python311\\lib\\site-packages (from scrapy) (23.1.0)\n",
      "Requirement already satisfied: w3lib>=1.17.0 in c:\\users\\usuario\\appdata\\local\\programs\\python\\python311\\lib\\site-packages (from scrapy) (2.1.2)\n",
      "Requirement already satisfied: zope.interface>=5.1.0 in c:\\users\\usuario\\appdata\\local\\programs\\python\\python311\\lib\\site-packages (from scrapy) (6.1)\n",
      "Requirement already satisfied: protego>=0.1.15 in c:\\users\\usuario\\appdata\\local\\programs\\python\\python311\\lib\\site-packages (from scrapy) (0.3.0)\n",
      "Requirement already satisfied: itemadapter>=0.1.0 in c:\\users\\usuario\\appdata\\local\\programs\\python\\python311\\lib\\site-packages (from scrapy) (0.8.0)\n",
      "Requirement already satisfied: setuptools in c:\\users\\usuario\\appdata\\local\\programs\\python\\python311\\lib\\site-packages (from scrapy) (65.5.0)\n",
      "Requirement already satisfied: packaging in c:\\users\\usuario\\appdata\\roaming\\python\\python311\\site-packages (from scrapy) (23.1)\n",
      "Requirement already satisfied: tldextract in c:\\users\\usuario\\appdata\\local\\programs\\python\\python311\\lib\\site-packages (from scrapy) (5.0.1)\n",
      "Requirement already satisfied: lxml>=4.4.1 in c:\\users\\usuario\\appdata\\local\\programs\\python\\python311\\lib\\site-packages (from scrapy) (4.9.3)\n",
      "Requirement already satisfied: PyDispatcher>=2.0.5 in c:\\users\\usuario\\appdata\\local\\programs\\python\\python311\\lib\\site-packages (from scrapy) (2.0.7)\n",
      "Requirement already satisfied: cffi>=1.12 in c:\\users\\usuario\\appdata\\local\\programs\\python\\python311\\lib\\site-packages (from cryptography>=36.0.0->scrapy) (1.15.1)\n",
      "Requirement already satisfied: jmespath>=0.9.5 in c:\\users\\usuario\\appdata\\local\\programs\\python\\python311\\lib\\site-packages (from itemloaders>=1.0.1->scrapy) (1.0.1)\n",
      "Requirement already satisfied: attrs>=19.1.0 in c:\\users\\usuario\\appdata\\local\\programs\\python\\python311\\lib\\site-packages (from service-identity>=18.1.0->scrapy) (23.1.0)\n",
      "Requirement already satisfied: pyasn1 in c:\\users\\usuario\\appdata\\local\\programs\\python\\python311\\lib\\site-packages (from service-identity>=18.1.0->scrapy) (0.5.0)\n",
      "Requirement already satisfied: pyasn1-modules in c:\\users\\usuario\\appdata\\local\\programs\\python\\python311\\lib\\site-packages (from service-identity>=18.1.0->scrapy) (0.3.0)\n",
      "Requirement already satisfied: constantly>=15.1 in c:\\users\\usuario\\appdata\\local\\programs\\python\\python311\\lib\\site-packages (from Twisted<23.8.0,>=18.9.0->scrapy) (15.1.0)\n",
      "Requirement already satisfied: incremental>=21.3.0 in c:\\users\\usuario\\appdata\\local\\programs\\python\\python311\\lib\\site-packages (from Twisted<23.8.0,>=18.9.0->scrapy) (22.10.0)\n",
      "Requirement already satisfied: Automat>=0.8.0 in c:\\users\\usuario\\appdata\\local\\programs\\python\\python311\\lib\\site-packages (from Twisted<23.8.0,>=18.9.0->scrapy) (22.10.0)\n",
      "Requirement already satisfied: hyperlink>=17.1.1 in c:\\users\\usuario\\appdata\\local\\programs\\python\\python311\\lib\\site-packages (from Twisted<23.8.0,>=18.9.0->scrapy) (21.0.0)\n",
      "Requirement already satisfied: typing-extensions>=3.6.5 in c:\\users\\usuario\\appdata\\local\\programs\\python\\python311\\lib\\site-packages (from Twisted<23.8.0,>=18.9.0->scrapy) (4.8.0)\n",
      "Requirement already satisfied: twisted-iocpsupport<2,>=1.0.2 in c:\\users\\usuario\\appdata\\local\\programs\\python\\python311\\lib\\site-packages (from Twisted<23.8.0,>=18.9.0->scrapy) (1.0.4)\n",
      "Requirement already satisfied: idna in c:\\users\\usuario\\appdata\\local\\programs\\python\\python311\\lib\\site-packages (from tldextract->scrapy) (3.4)\n",
      "Requirement already satisfied: requests>=2.1.0 in c:\\users\\usuario\\appdata\\local\\programs\\python\\python311\\lib\\site-packages (from tldextract->scrapy) (2.31.0)\n",
      "Requirement already satisfied: requests-file>=1.4 in c:\\users\\usuario\\appdata\\local\\programs\\python\\python311\\lib\\site-packages (from tldextract->scrapy) (1.5.1)\n",
      "Requirement already satisfied: filelock>=3.0.8 in c:\\users\\usuario\\appdata\\local\\programs\\python\\python311\\lib\\site-packages (from tldextract->scrapy) (3.13.0)\n",
      "Requirement already satisfied: six in c:\\users\\usuario\\appdata\\local\\programs\\python\\python311\\lib\\site-packages (from Automat>=0.8.0->Twisted<23.8.0,>=18.9.0->scrapy) (1.16.0)\n",
      "Requirement already satisfied: pycparser in c:\\users\\usuario\\appdata\\local\\programs\\python\\python311\\lib\\site-packages (from cffi>=1.12->cryptography>=36.0.0->scrapy) (2.21)\n",
      "Requirement already satisfied: charset-normalizer<4,>=2 in c:\\users\\usuario\\appdata\\local\\programs\\python\\python311\\lib\\site-packages (from requests>=2.1.0->tldextract->scrapy) (3.2.0)\n",
      "Requirement already satisfied: urllib3<3,>=1.21.1 in c:\\users\\usuario\\appdata\\local\\programs\\python\\python311\\lib\\site-packages (from requests>=2.1.0->tldextract->scrapy) (2.0.4)\n",
      "Requirement already satisfied: certifi>=2017.4.17 in c:\\users\\usuario\\appdata\\local\\programs\\python\\python311\\lib\\site-packages (from requests>=2.1.0->tldextract->scrapy) (2023.7.22)\n"
     ]
    },
    {
     "name": "stderr",
     "output_type": "stream",
     "text": [
      "\n",
      "[notice] A new release of pip is available: 23.2.1 -> 23.3.1\n",
      "[notice] To update, run: python.exe -m pip install --upgrade pip\n"
     ]
    },
    {
     "name": "stdout",
     "output_type": "stream",
     "text": [
      "Error: scrapy.cfg already exists in C:\\Users\\Usuario\\Documents\\University\\Recuperacion Web\\LibreriaUNAL\\Trabajo 2\\GoodReadsScraper\n",
      "c:\\Users\\Usuario\\Documents\\University\\Recuperacion Web\\LibreriaUNAL\\Trabajo 2\\GoodReadsScraper\\GoodReadsScraper\\spiders\n"
     ]
    }
   ],
   "source": [
    "%pip install scrapy\n",
    "!scrapy startproject GoodReadsScraper\n",
    "%cd GoodReadsScraper/GoodReadsScraper/spiders/"
   ]
  },
  {
   "cell_type": "markdown",
   "id": "8a3c85f3",
   "metadata": {},
   "source": [
    "# Funciones"
   ]
  },
  {
   "cell_type": "code",
   "execution_count": null,
   "id": "d238981d",
   "metadata": {},
   "outputs": [],
   "source": []
  },
  {
   "cell_type": "markdown",
   "id": "7dc19e30",
   "metadata": {},
   "source": [
    "# Web Scrapping"
   ]
  },
  {
   "cell_type": "code",
   "execution_count": 5,
   "id": "2db7962f",
   "metadata": {},
   "outputs": [
    {
     "name": "stdout",
     "output_type": "stream",
     "text": [
      "C:\\Users\\Usuario\\Documents\\University\\Recuperacion Web\\LibreriaUNAL\\Trabajo 2\\GoodReadsScraper\\GoodReadsScraper\\spiders\\GoodReadsSpider.py already exists\n"
     ]
    }
   ],
   "source": [
    "!scrapy genspider GoodReadsSpider https://www.goodreads.com/shelf/show/fiction"
   ]
  },
  {
   "cell_type": "code",
   "execution_count": 6,
   "id": "1cacb4e8",
   "metadata": {},
   "outputs": [
    {
     "name": "stderr",
     "output_type": "stream",
     "text": [
      "2023-10-29 12:55:20 [scrapy.utils.log] INFO: Scrapy 2.11.0 started (bot: GoodReadsScraper)\n",
      "2023-10-29 12:55:20 [scrapy.utils.log] INFO: Versions: lxml 4.9.3.0, libxml2 2.10.3, cssselect 1.2.0, parsel 1.8.1, w3lib 2.1.2, Twisted 22.10.0, Python 3.11.4 (tags/v3.11.4:d2340ef, Jun  7 2023, 05:45:37) [MSC v.1934 64 bit (AMD64)], pyOpenSSL 23.3.0 (OpenSSL 3.1.4 24 Oct 2023), cryptography 41.0.5, Platform Windows-10-10.0.22621-SP0\n",
      "2023-10-29 12:55:20 [scrapy.addons] INFO: Enabled addons:\n",
      "[]\n",
      "2023-10-29 12:55:20 [asyncio] DEBUG: Using selector: SelectSelector\n",
      "2023-10-29 12:55:20 [scrapy.utils.log] DEBUG: Using reactor: twisted.internet.asyncioreactor.AsyncioSelectorReactor\n",
      "2023-10-29 12:55:20 [scrapy.utils.log] DEBUG: Using asyncio event loop: asyncio.windows_events._WindowsSelectorEventLoop\n",
      "2023-10-29 12:55:20 [scrapy.extensions.telnet] INFO: Telnet Password: be1a84d6a2708fc0\n",
      "2023-10-29 12:55:20 [scrapy.middleware] INFO: Enabled extensions:\n",
      "['scrapy.extensions.corestats.CoreStats',\n",
      " 'scrapy.extensions.telnet.TelnetConsole',\n",
      " 'scrapy.extensions.feedexport.FeedExporter',\n",
      " 'scrapy.extensions.logstats.LogStats']\n",
      "2023-10-29 12:55:20 [scrapy.crawler] INFO: Overridden settings:\n",
      "{'BOT_NAME': 'GoodReadsScraper',\n",
      " 'FEED_EXPORT_ENCODING': 'utf-8',\n",
      " 'NEWSPIDER_MODULE': 'GoodReadsScraper.spiders',\n",
      " 'REQUEST_FINGERPRINTER_IMPLEMENTATION': '2.7',\n",
      " 'ROBOTSTXT_OBEY': True,\n",
      " 'SPIDER_LOADER_WARN_ONLY': True,\n",
      " 'SPIDER_MODULES': ['GoodReadsScraper.spiders'],\n",
      " 'TWISTED_REACTOR': 'twisted.internet.asyncioreactor.AsyncioSelectorReactor'}\n",
      "2023-10-29 12:55:21 [scrapy.middleware] INFO: Enabled downloader middlewares:\n",
      "['scrapy.downloadermiddlewares.robotstxt.RobotsTxtMiddleware',\n",
      " 'scrapy.downloadermiddlewares.httpauth.HttpAuthMiddleware',\n",
      " 'scrapy.downloadermiddlewares.downloadtimeout.DownloadTimeoutMiddleware',\n",
      " 'scrapy.downloadermiddlewares.defaultheaders.DefaultHeadersMiddleware',\n",
      " 'scrapy.downloadermiddlewares.useragent.UserAgentMiddleware',\n",
      " 'scrapy.downloadermiddlewares.retry.RetryMiddleware',\n",
      " 'scrapy.downloadermiddlewares.redirect.MetaRefreshMiddleware',\n",
      " 'scrapy.downloadermiddlewares.httpcompression.HttpCompressionMiddleware',\n",
      " 'scrapy.downloadermiddlewares.redirect.RedirectMiddleware',\n",
      " 'scrapy.downloadermiddlewares.cookies.CookiesMiddleware',\n",
      " 'scrapy.downloadermiddlewares.httpproxy.HttpProxyMiddleware',\n",
      " 'scrapy.downloadermiddlewares.stats.DownloaderStats']\n",
      "2023-10-29 12:55:21 [scrapy.middleware] INFO: Enabled spider middlewares:\n",
      "['scrapy.spidermiddlewares.httperror.HttpErrorMiddleware',\n",
      " 'scrapy.spidermiddlewares.offsite.OffsiteMiddleware',\n",
      " 'scrapy.spidermiddlewares.referer.RefererMiddleware',\n",
      " 'scrapy.spidermiddlewares.urllength.UrlLengthMiddleware',\n",
      " 'scrapy.spidermiddlewares.depth.DepthMiddleware']\n",
      "2023-10-29 12:55:21 [scrapy.middleware] INFO: Enabled item pipelines:\n",
      "[]\n",
      "2023-10-29 12:55:21 [scrapy.core.engine] INFO: Spider opened\n",
      "2023-10-29 12:55:21 [scrapy.extensions.logstats] INFO: Crawled 0 pages (at 0 pages/min), scraped 0 items (at 0 items/min)\n",
      "2023-10-29 12:55:21 [scrapy.extensions.telnet] INFO: Telnet console listening on 127.0.0.1:6023\n",
      "2023-10-29 12:55:21 [scrapy.core.engine] DEBUG: Crawled (200) <GET https://www.goodreads.com/robots.txt> (referer: None)\n",
      "2023-10-29 12:55:22 [scrapy.core.engine] DEBUG: Crawled (200) <GET https://www.goodreads.com/shelf/show/fiction> (referer: None)\n",
      "2023-10-29 12:55:24 [scrapy.core.engine] DEBUG: Crawled (200) <GET https://www.goodreads.com/book/show/72193.Harry_Potter_and_the_Philosopher_s_Stone> (referer: https://www.goodreads.com/shelf/show/fiction)\n",
      "2023-10-29 12:55:24 [scrapy.core.engine] DEBUG: Crawled (200) <GET https://www.goodreads.com/book/show/38447.The_Handmaid_s_Tale> (referer: https://www.goodreads.com/shelf/show/fiction)\n",
      "2023-10-29 12:55:24 [scrapy.core.engine] DEBUG: Crawled (200) <GET https://www.goodreads.com/book/show/170448.Animal_Farm> (referer: https://www.goodreads.com/shelf/show/fiction)\n",
      "2023-10-29 12:55:25 [scrapy.core.engine] DEBUG: Crawled (200) <GET https://www.goodreads.com/book/show/4671.The_Great_Gatsby> (referer: https://www.goodreads.com/shelf/show/fiction)\n",
      "2023-10-29 12:55:25 [scrapy.core.engine] DEBUG: Crawled (200) <GET https://www.goodreads.com/book/show/968.The_Da_Vinci_Code> (referer: https://www.goodreads.com/shelf/show/fiction)\n",
      "2023-10-29 12:55:25 [scrapy.core.engine] DEBUG: Crawled (200) <GET https://www.goodreads.com/book/show/61439040-1984> (referer: https://www.goodreads.com/shelf/show/fiction)\n",
      "2023-10-29 12:55:25 [scrapy.core.engine] DEBUG: Crawled (200) <GET https://www.goodreads.com/book/show/5107.The_Catcher_in_the_Rye> (referer: https://www.goodreads.com/shelf/show/fiction)\n",
      "2023-10-29 12:55:25 [scrapy.core.engine] DEBUG: Crawled (200) <GET https://www.goodreads.com/book/show/2657.To_Kill_a_Mockingbird> (referer: https://www.goodreads.com/shelf/show/fiction)\n",
      "2023-10-29 12:55:26 [scrapy.core.engine] DEBUG: Crawled (200) <GET https://www.goodreads.com/book/show/18144590-the-alchemist> (referer: https://www.goodreads.com/shelf/show/fiction)\n",
      "2023-10-29 12:55:26 [scrapy.core.engine] DEBUG: Crawled (200) <GET https://www.goodreads.com/book/show/2767052-the-hunger-games> (referer: https://www.goodreads.com/shelf/show/fiction)\n",
      "2023-10-29 12:55:26 [scrapy.core.engine] INFO: Closing spider (finished)\n",
      "2023-10-29 12:55:26 [scrapy.extensions.feedexport] INFO: Stored json feed (0 items) in: ../../ejercicio0.json\n",
      "2023-10-29 12:55:26 [scrapy.statscollectors] INFO: Dumping Scrapy stats:\n",
      "{'downloader/request_bytes': 4934,\n",
      " 'downloader/request_count': 12,\n",
      " 'downloader/request_method_count/GET': 12,\n",
      " 'downloader/response_bytes': 7744206,\n",
      " 'downloader/response_count': 12,\n",
      " 'downloader/response_status_count/200': 12,\n",
      " 'elapsed_time_seconds': 5.869993,\n",
      " 'feedexport/success_count/FileFeedStorage': 1,\n",
      " 'finish_reason': 'finished',\n",
      " 'finish_time': datetime.datetime(2023, 10, 29, 17, 55, 26, 955126, tzinfo=datetime.timezone.utc),\n",
      " 'httpcompression/response_bytes': 282298,\n",
      " 'httpcompression/response_count': 2,\n",
      " 'log_count/DEBUG': 15,\n",
      " 'log_count/INFO': 11,\n",
      " 'request_depth_max': 1,\n",
      " 'response_received_count': 12,\n",
      " 'robotstxt/request_count': 1,\n",
      " 'robotstxt/response_count': 1,\n",
      " 'robotstxt/response_status_count/200': 1,\n",
      " 'scheduler/dequeued': 11,\n",
      " 'scheduler/dequeued/memory': 11,\n",
      " 'scheduler/enqueued': 11,\n",
      " 'scheduler/enqueued/memory': 11,\n",
      " 'start_time': datetime.datetime(2023, 10, 29, 17, 55, 21, 85133, tzinfo=datetime.timezone.utc)}\n",
      "2023-10-29 12:55:26 [scrapy.core.engine] INFO: Spider closed (finished)\n"
     ]
    }
   ],
   "source": [
    "!scrapy runspider GoodReadsSpider.py -O ../../ejercicio0.json\n"
   ]
  },
  {
   "cell_type": "markdown",
   "id": "9f5dac09",
   "metadata": {},
   "source": [
    "# Pre procesamiento"
   ]
  },
  {
   "cell_type": "code",
   "execution_count": null,
   "id": "92d5e85e",
   "metadata": {},
   "outputs": [],
   "source": []
  },
  {
   "cell_type": "markdown",
   "id": "bf569116",
   "metadata": {},
   "source": [
    "# Vectorizacion"
   ]
  },
  {
   "cell_type": "code",
   "execution_count": null,
   "id": "483a6a68",
   "metadata": {},
   "outputs": [],
   "source": []
  },
  {
   "cell_type": "markdown",
   "id": "3b589fd5",
   "metadata": {},
   "source": [
    "# Base de Datos"
   ]
  },
  {
   "cell_type": "code",
   "execution_count": null,
   "id": "4b1b5e3d",
   "metadata": {},
   "outputs": [],
   "source": []
  },
  {
   "cell_type": "markdown",
   "id": "7a3affaa",
   "metadata": {},
   "source": [
    "# Consulta"
   ]
  },
  {
   "cell_type": "code",
   "execution_count": null,
   "id": "1f436f55",
   "metadata": {},
   "outputs": [],
   "source": []
  },
  {
   "cell_type": "code",
   "execution_count": null,
   "id": "e4370b31",
   "metadata": {},
   "outputs": [],
   "source": []
  }
 ],
 "metadata": {
  "kernelspec": {
   "display_name": "Python 3 (ipykernel)",
   "language": "python",
   "name": "python3"
  },
  "language_info": {
   "codemirror_mode": {
    "name": "ipython",
    "version": 3
   },
   "file_extension": ".py",
   "mimetype": "text/x-python",
   "name": "python",
   "nbconvert_exporter": "python",
   "pygments_lexer": "ipython3",
   "version": "3.11.4"
  }
 },
 "nbformat": 4,
 "nbformat_minor": 5
}
