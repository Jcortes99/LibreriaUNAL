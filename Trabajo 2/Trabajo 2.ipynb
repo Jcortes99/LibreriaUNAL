{
 "cells": [
  {
   "cell_type": "markdown",
   "id": "4c33f0c5",
   "metadata": {},
   "source": [
    "# Librerias"
   ]
  },
  {
   "cell_type": "code",
   "execution_count": null,
   "id": "3e5d0ca2",
   "metadata": {},
   "outputs": [],
   "source": [
    "!pip install scrapy\n",
    "!scrapy startproject bookscraper\n",
    "%cd bookscraper/bookscraper/spiders/"
   ]
  },
  {
   "cell_type": "markdown",
   "id": "8a3c85f3",
   "metadata": {},
   "source": [
    "# Funciones"
   ]
  },
  {
   "cell_type": "code",
   "execution_count": null,
   "id": "d238981d",
   "metadata": {},
   "outputs": [],
   "source": []
  },
  {
   "cell_type": "markdown",
   "id": "7dc19e30",
   "metadata": {},
   "source": [
    "# Web Scrapping"
   ]
  },
  {
   "cell_type": "code",
   "execution_count": 2,
   "id": "2db7962f",
   "metadata": {},
   "outputs": [
    {
     "name": "stdout",
     "output_type": "stream",
     "text": [
      "Created spider 'WikiSpider' using template 'basic' \n"
     ]
    }
   ],
   "source": [
    "!scrapy genspider WikiSpider es.wikipedia.org/wiki/Programaci%C3%B3n"
   ]
  },
  {
   "cell_type": "code",
   "execution_count": null,
   "id": "1cacb4e8",
   "metadata": {},
   "outputs": [],
   "source": [
    "!scrapy runspider WikiSpider.py -O ../../ejercicio0.json"
   ]
  },
  {
   "cell_type": "markdown",
   "id": "9f5dac09",
   "metadata": {},
   "source": [
    "# Pre procesamiento"
   ]
  },
  {
   "cell_type": "code",
   "execution_count": null,
   "id": "92d5e85e",
   "metadata": {},
   "outputs": [],
   "source": []
  },
  {
   "cell_type": "markdown",
   "id": "bf569116",
   "metadata": {},
   "source": [
    "# Vectorizacion"
   ]
  },
  {
   "cell_type": "code",
   "execution_count": null,
   "id": "483a6a68",
   "metadata": {},
   "outputs": [],
   "source": []
  },
  {
   "cell_type": "markdown",
   "id": "3b589fd5",
   "metadata": {},
   "source": [
    "# Base de Datos"
   ]
  },
  {
   "cell_type": "code",
   "execution_count": null,
   "id": "4b1b5e3d",
   "metadata": {},
   "outputs": [],
   "source": []
  },
  {
   "cell_type": "markdown",
   "id": "7a3affaa",
   "metadata": {},
   "source": [
    "# Consulta"
   ]
  },
  {
   "cell_type": "code",
   "execution_count": null,
   "id": "1f436f55",
   "metadata": {},
   "outputs": [],
   "source": []
  },
  {
   "cell_type": "code",
   "execution_count": null,
   "id": "e4370b31",
   "metadata": {},
   "outputs": [],
   "source": []
  }
 ],
 "metadata": {
  "kernelspec": {
   "display_name": "Python 3 (ipykernel)",
   "language": "python",
   "name": "python3"
  },
  "language_info": {
   "codemirror_mode": {
    "name": "ipython",
    "version": 3
   },
   "file_extension": ".py",
   "mimetype": "text/x-python",
   "name": "python",
   "nbconvert_exporter": "python",
   "pygments_lexer": "ipython3",
   "version": "3.10.9"
  }
 },
 "nbformat": 4,
 "nbformat_minor": 5
}
