{
 "cells": [
  {
   "cell_type": "markdown",
   "id": "b03f711b",
   "metadata": {},
   "source": [
    "# Inicio"
   ]
  },
  {
   "cell_type": "code",
   "execution_count": 30,
   "id": "0bf47421",
   "metadata": {},
   "outputs": [],
   "source": [
    "from SPARQLWrapper import SPARQLWrapper, JSON\n",
    "\n",
    "# Definir la URL del punto de acceso SPARQL de Virtuoso\n",
    "sparql_endpoint = \"http://localhost:8890/sparql\"  # Cambia esto a la URL correcta de tu instancia de Virtuoso\n",
    "#sparql_endpoint = \"http://localhost:8890/Biblioteca-Hemeroteca-Ludoteca\"  # Cambia esto a la URL correcta de tu instancia de Virtuoso\n",
    "\n",
    "# Crear una instancia de SPARQLWrapper\n",
    "sparql = SPARQLWrapper(sparql_endpoint)"
   ]
  },
  {
   "cell_type": "code",
   "execution_count": 34,
   "id": "f70c2af2",
   "metadata": {},
   "outputs": [
    {
     "name": "stdout",
     "output_type": "stream",
     "text": [
      "{'subject': {'type': 'uri', 'value': 'http://localhost:8890/Biblioteca-Hemeroteca-Ludoteca/Vouge'}, 'predicate': {'type': 'uri', 'value': 'http://localhost:8890/Biblioteca-Hemeroteca-Ludoteca/ubicadoEn'}, 'object': {'type': 'uri', 'value': 'http://localhost:8890/Biblioteca-Hemeroteca-Ludoteca/Hemeroteca'}}\n"
     ]
    }
   ],
   "source": [
    "query = \"\"\"\n",
    "SELECT *\n",
    "WHERE {\n",
    "  ?subject ?predicate ?object\n",
    "}\n",
    "\"\"\"\n",
    "sparql.setQuery(query)\n",
    "sparql.setReturnFormat(JSON)\n",
    "results1 = sparql.query().convert()\n",
    "print(results1[\"results\"][\"bindings\"][-1])"
   ]
  },
  {
   "cell_type": "code",
   "execution_count": 28,
   "id": "c7fd6041",
   "metadata": {},
   "outputs": [
    {
     "name": "stdout",
     "output_type": "stream",
     "text": [
      "{'head': {'link': [], 'vars': ['subject']}, 'results': {'distinct': False, 'ordered': True, 'bindings': []}}\n"
     ]
    }
   ],
   "source": [
    "query1 = \"\"\"\n",
    "PREFIX bib: <http://localhost:8890/Biblioteca-Hemeroteca-Ludoteca>\n",
    "PREFIX rdf: <http://www.w3.org/1999/02/22-rdf-syntax-ns#> \n",
    "PREFIX rdfs: <http://www.w3.org/2000/01/rdf-schema#>\n",
    "SELECT ?subject\n",
    "WHERE {\n",
    "  ?subject rdf:type bib:Editorial\n",
    "}\n",
    "\"\"\"\n",
    "sparql.setQuery(query1)\n",
    "sparql.setReturnFormat(JSON)\n",
    "results1 = sparql.query().convert()\n",
    "print(results1)"
   ]
  },
  {
   "cell_type": "markdown",
   "id": "e41237c6",
   "metadata": {},
   "source": [
    "# Consulta 1: Obtener los nombres de todas las editoriales en la ontología"
   ]
  },
  {
   "cell_type": "code",
   "execution_count": 23,
   "id": "466d5d07",
   "metadata": {},
   "outputs": [
    {
     "name": "stdout",
     "output_type": "stream",
     "text": [
      "Editoriales en la ontología:\n"
     ]
    }
   ],
   "source": [
    "query1 = \"\"\"\n",
    "PREFIX bib: <http://localhost:8890/Biblioteca-Hemeroteca-Ludoteca>\n",
    "SELECT DISTINCT ?editorialNombre\n",
    "WHERE {\n",
    "  ?editor rdf:type bib:Editorial .\n",
    "  ?editor bib:tieneNombre ?editorialNombre .\n",
    "}\n",
    "ORDER BY ?editorialNombre\n",
    "\"\"\"\n",
    "sparql.setQuery(query1)\n",
    "sparql.setReturnFormat(JSON)\n",
    "results1 = sparql.query().convert()\n",
    "\n",
    "print(\"Editoriales en la ontología:\")\n",
    "for result in results1[\"results\"][\"bindings\"]:\n",
    "    print(result[\"editorialNombre\"][\"value\"])"
   ]
  },
  {
   "cell_type": "markdown",
   "id": "b39e797f",
   "metadata": {},
   "source": [
    "# Consulta 2: Obtener los autores nacidos después de 1950"
   ]
  },
  {
   "cell_type": "code",
   "execution_count": null,
   "id": "84e39ccd",
   "metadata": {},
   "outputs": [],
   "source": [
    "query2 = \"\"\"\n",
    "SELECT DISTINCT ?autorNombre\n",
    "WHERE {\n",
    "  ?autor rdf:type <http://www.semanticweb.org/usuario/ontologies/2023/8/Biblioteca-Hemeroteca-Ludoteca#Autor> .\n",
    "  ?autor <http://www.semanticweb.org/usuario/ontologies/2023/8/Biblioteca-Hemeroteca-Ludoteca#añoDeNacimiento> ?nacimiento .\n",
    "  FILTER(?nacimiento > 1950)\n",
    "  ?autor <http://www.semanticweb.org/usuario/ontologies/2023/8/Biblioteca-Hemeroteca-Ludoteca#tieneNombre> ?autorNombre .\n",
    "}\n",
    "ORDER BY ?autorNombre\n",
    "\"\"\"\n",
    "sparql.setQuery(query2)\n",
    "results2 = sparql.query().convert()\n",
    "\n",
    "print(\"\\nAutores nacidos después de 1950:\")\n",
    "for result in results2[\"results\"][\"bindings\"]:\n",
    "    print(result[\"autorNombre\"][\"value\"])"
   ]
  },
  {
   "cell_type": "markdown",
   "id": "b4f83c49",
   "metadata": {},
   "source": [
    "# Consulta 3: Obtener el nombre de la editorial del libro \"Cien Años De Soledad\""
   ]
  },
  {
   "cell_type": "code",
   "execution_count": null,
   "id": "73f9513e",
   "metadata": {},
   "outputs": [],
   "source": [
    "query3 = \"\"\"\n",
    "SELECT ?editorialNombre\n",
    "WHERE {\n",
    "  ?libro rdf:type <http://www.semanticweb.org/usuario/ontologies/2023/8/Biblioteca-Hemeroteca-Ludoteca#Libro> .\n",
    "  ?libro <http://www.semanticweb.org/usuario/ontologies/2023/8/Biblioteca-Hemeroteca-Ludoteca#tieneTitulo> \"Cien Años De Soledad\" .\n",
    "  ?libro <http://www.semanticweb.org/usuario/ontologies/2023/8/Biblioteca-Hemeroteca-Ludoteca#tieneEditorial> ?editorial .\n",
    "  ?editorial <http://www.semanticweb.org/usuario/ontologies/2023/8/Biblioteca-Hemeroteca-Ludoteca#tieneNombre> ?editorialNombre .\n",
    "}\n",
    "\"\"\"\n",
    "sparql.setQuery(query3)\n",
    "results3 = sparql.query().convert()\n",
    "\n",
    "if len(results3[\"results\"][\"bindings\"]) > 0:\n",
    "    editorial_cien_anos = results3[\"results\"][\"bindings\"][0][\"editorialNombre\"][\"value\"]\n",
    "    print(f\"\\nEditorial del libro 'Cien Años De Soledad': {editorial_cien_anos}\")\n",
    "else:\n",
    "    print(\"\\nEl libro 'Cien Años De Soledad' no se encontró en la ontología.\")"
   ]
  },
  {
   "cell_type": "markdown",
   "id": "5953bcdd",
   "metadata": {},
   "source": [
    "# Consulta 4: Obtener los superhéroes y sus cómics"
   ]
  },
  {
   "cell_type": "code",
   "execution_count": null,
   "id": "8abb7afc",
   "metadata": {},
   "outputs": [],
   "source": [
    "query4 = \"\"\"\n",
    "SELECT DISTINCT ?superheroeNombre ?comicTitulo\n",
    "WHERE {\n",
    "  ?superheroe rdf:type <http://www.semanticweb.org/usuario/ontologies/2023/8/Biblioteca-Hemeroteca-Ludoteca#Superheroe> .\n",
    "  ?superheroe <http://www.semanticweb.org/usuario/ontologies/2023/8/Biblioteca-Hemeroteca-Ludoteca#tieneNombre> ?superheroeNombre .\n",
    "  ?comic rdf:type <http://www.semanticweb.org/usuario/ontologies/2023/8/Biblioteca-Hemeroteca-Ludoteca#Comic> .\n",
    "  ?comic <http://www.semanticweb.org/usuario/ontologies/2023/8/Biblioteca-Hemeroteca-Ludoteca#tieneSuperheroe> ?superheroe .\n",
    "  ?comic <http://www.semanticweb.org/usuario/ontologies/2023/8/Biblioteca-Hemeroteca-Ludoteca#tieneTitulo> ?comicTitulo .\n",
    "}\n",
    "ORDER BY ?superheroeNombre ?comicTitulo\n",
    "\"\"\"\n",
    "sparql.setQuery(query4)\n",
    "results4 = sparql.query().convert()\n",
    "\n",
    "print(\"\\nSuperhéroes y sus cómics:\")\n",
    "current_superhero = \"\"\n",
    "for result in results4[\"results\"][\"bindings\"]:\n",
    "    superheroe_nombre = result[\"superheroeNombre\"][\"value\"]\n",
    "    comic_titulo = result[\"comicTitulo\"][\"value\"]\n",
    "    if superheroe_nombre != current_superhero:\n",
    "        print(f\"\\nSuperhéroe: {superheroe_nombre}\")\n",
    "        current_superhero = superheroe_nombre\n",
    "    print(f\"Cómic: {comic_titulo}\")"
   ]
  }
 ],
 "metadata": {
  "kernelspec": {
   "display_name": "Python 3 (ipykernel)",
   "language": "python",
   "name": "python3"
  },
  "language_info": {
   "codemirror_mode": {
    "name": "ipython",
    "version": 3
   },
   "file_extension": ".py",
   "mimetype": "text/x-python",
   "name": "python",
   "nbconvert_exporter": "python",
   "pygments_lexer": "ipython3",
   "version": "3.10.9"
  }
 },
 "nbformat": 4,
 "nbformat_minor": 5
}
