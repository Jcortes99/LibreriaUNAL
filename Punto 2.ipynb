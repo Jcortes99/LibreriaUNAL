{
 "cells": [
  {
   "cell_type": "markdown",
   "id": "68e172b0",
   "metadata": {},
   "source": [
    "# Inicio"
   ]
  },
  {
   "cell_type": "code",
   "execution_count": 3,
   "id": "eab82095",
   "metadata": {},
   "outputs": [],
   "source": [
    "from SPARQLWrapper import SPARQLWrapper, JSON\n",
    "\n",
    "# Definir la URL del punto de acceso SPARQL de Virtuoso\n",
    "sparql_endpoint = \"http://localhost:8890/LibreriaUnal\"  # Cambia esto a la URL correcta de tu instancia de Virtuoso\n",
    "\n",
    "# Crear una instancia de SPARQLWrapper\n",
    "sparql = SPARQLWrapper(sparql_endpoint)"
   ]
  },
  {
   "cell_type": "markdown",
   "id": "3c34f28c",
   "metadata": {},
   "source": [
    "# Consulta 1: Obtener los nombres de todas las editoriales en la ontología"
   ]
  },
  {
   "cell_type": "code",
   "execution_count": 5,
   "id": "e21fe0fe",
   "metadata": {},
   "outputs": [
    {
     "ename": "EndPointNotFound",
     "evalue": "EndPointNotFound: It was not possible to connect to the given endpoint: check it is correct. \n\nResponse:\nb'<!DOCTYPE HTML PUBLIC \"-//IETF//DTD HTML//EN\">\\n<html>\\n  <head>\\n    <title>Error HTTP/1.1 404 File not found</title>\\n  </head>\\n  <body>\\n    <h3>Error HTTP/1.1 404 File not found</h3><pre>\\nThe requested URL was not found    URI  = \\'/LibreriaUnal\\'\\n  </pre></body></html>\\n'",
     "output_type": "error",
     "traceback": [
      "\u001b[1;31m---------------------------------------------------------------------------\u001b[0m",
      "\u001b[1;31mHTTPError\u001b[0m                                 Traceback (most recent call last)",
      "File \u001b[1;32mC:\\ProgramData\\anaconda3\\lib\\site-packages\\SPARQLWrapper\\Wrapper.py:926\u001b[0m, in \u001b[0;36mSPARQLWrapper._query\u001b[1;34m(self)\u001b[0m\n\u001b[0;32m    925\u001b[0m \u001b[38;5;28;01melse\u001b[39;00m:\n\u001b[1;32m--> 926\u001b[0m     response \u001b[38;5;241m=\u001b[39m \u001b[43murlopener\u001b[49m\u001b[43m(\u001b[49m\u001b[43mrequest\u001b[49m\u001b[43m)\u001b[49m\n\u001b[0;32m    927\u001b[0m \u001b[38;5;28;01mreturn\u001b[39;00m response, \u001b[38;5;28mself\u001b[39m\u001b[38;5;241m.\u001b[39mreturnFormat\n",
      "File \u001b[1;32mC:\\ProgramData\\anaconda3\\lib\\urllib\\request.py:216\u001b[0m, in \u001b[0;36murlopen\u001b[1;34m(url, data, timeout, cafile, capath, cadefault, context)\u001b[0m\n\u001b[0;32m    215\u001b[0m     opener \u001b[38;5;241m=\u001b[39m _opener\n\u001b[1;32m--> 216\u001b[0m \u001b[38;5;28;01mreturn\u001b[39;00m \u001b[43mopener\u001b[49m\u001b[38;5;241;43m.\u001b[39;49m\u001b[43mopen\u001b[49m\u001b[43m(\u001b[49m\u001b[43murl\u001b[49m\u001b[43m,\u001b[49m\u001b[43m \u001b[49m\u001b[43mdata\u001b[49m\u001b[43m,\u001b[49m\u001b[43m \u001b[49m\u001b[43mtimeout\u001b[49m\u001b[43m)\u001b[49m\n",
      "File \u001b[1;32mC:\\ProgramData\\anaconda3\\lib\\urllib\\request.py:525\u001b[0m, in \u001b[0;36mOpenerDirector.open\u001b[1;34m(self, fullurl, data, timeout)\u001b[0m\n\u001b[0;32m    524\u001b[0m     meth \u001b[38;5;241m=\u001b[39m \u001b[38;5;28mgetattr\u001b[39m(processor, meth_name)\n\u001b[1;32m--> 525\u001b[0m     response \u001b[38;5;241m=\u001b[39m \u001b[43mmeth\u001b[49m\u001b[43m(\u001b[49m\u001b[43mreq\u001b[49m\u001b[43m,\u001b[49m\u001b[43m \u001b[49m\u001b[43mresponse\u001b[49m\u001b[43m)\u001b[49m\n\u001b[0;32m    527\u001b[0m \u001b[38;5;28;01mreturn\u001b[39;00m response\n",
      "File \u001b[1;32mC:\\ProgramData\\anaconda3\\lib\\urllib\\request.py:634\u001b[0m, in \u001b[0;36mHTTPErrorProcessor.http_response\u001b[1;34m(self, request, response)\u001b[0m\n\u001b[0;32m    633\u001b[0m \u001b[38;5;28;01mif\u001b[39;00m \u001b[38;5;129;01mnot\u001b[39;00m (\u001b[38;5;241m200\u001b[39m \u001b[38;5;241m<\u001b[39m\u001b[38;5;241m=\u001b[39m code \u001b[38;5;241m<\u001b[39m \u001b[38;5;241m300\u001b[39m):\n\u001b[1;32m--> 634\u001b[0m     response \u001b[38;5;241m=\u001b[39m \u001b[38;5;28;43mself\u001b[39;49m\u001b[38;5;241;43m.\u001b[39;49m\u001b[43mparent\u001b[49m\u001b[38;5;241;43m.\u001b[39;49m\u001b[43merror\u001b[49m\u001b[43m(\u001b[49m\n\u001b[0;32m    635\u001b[0m \u001b[43m        \u001b[49m\u001b[38;5;124;43m'\u001b[39;49m\u001b[38;5;124;43mhttp\u001b[39;49m\u001b[38;5;124;43m'\u001b[39;49m\u001b[43m,\u001b[49m\u001b[43m \u001b[49m\u001b[43mrequest\u001b[49m\u001b[43m,\u001b[49m\u001b[43m \u001b[49m\u001b[43mresponse\u001b[49m\u001b[43m,\u001b[49m\u001b[43m \u001b[49m\u001b[43mcode\u001b[49m\u001b[43m,\u001b[49m\u001b[43m \u001b[49m\u001b[43mmsg\u001b[49m\u001b[43m,\u001b[49m\u001b[43m \u001b[49m\u001b[43mhdrs\u001b[49m\u001b[43m)\u001b[49m\n\u001b[0;32m    637\u001b[0m \u001b[38;5;28;01mreturn\u001b[39;00m response\n",
      "File \u001b[1;32mC:\\ProgramData\\anaconda3\\lib\\urllib\\request.py:563\u001b[0m, in \u001b[0;36mOpenerDirector.error\u001b[1;34m(self, proto, *args)\u001b[0m\n\u001b[0;32m    562\u001b[0m args \u001b[38;5;241m=\u001b[39m (\u001b[38;5;28mdict\u001b[39m, \u001b[38;5;124m'\u001b[39m\u001b[38;5;124mdefault\u001b[39m\u001b[38;5;124m'\u001b[39m, \u001b[38;5;124m'\u001b[39m\u001b[38;5;124mhttp_error_default\u001b[39m\u001b[38;5;124m'\u001b[39m) \u001b[38;5;241m+\u001b[39m orig_args\n\u001b[1;32m--> 563\u001b[0m \u001b[38;5;28;01mreturn\u001b[39;00m \u001b[38;5;28;43mself\u001b[39;49m\u001b[38;5;241;43m.\u001b[39;49m\u001b[43m_call_chain\u001b[49m\u001b[43m(\u001b[49m\u001b[38;5;241;43m*\u001b[39;49m\u001b[43margs\u001b[49m\u001b[43m)\u001b[49m\n",
      "File \u001b[1;32mC:\\ProgramData\\anaconda3\\lib\\urllib\\request.py:496\u001b[0m, in \u001b[0;36mOpenerDirector._call_chain\u001b[1;34m(self, chain, kind, meth_name, *args)\u001b[0m\n\u001b[0;32m    495\u001b[0m func \u001b[38;5;241m=\u001b[39m \u001b[38;5;28mgetattr\u001b[39m(handler, meth_name)\n\u001b[1;32m--> 496\u001b[0m result \u001b[38;5;241m=\u001b[39m \u001b[43mfunc\u001b[49m\u001b[43m(\u001b[49m\u001b[38;5;241;43m*\u001b[39;49m\u001b[43margs\u001b[49m\u001b[43m)\u001b[49m\n\u001b[0;32m    497\u001b[0m \u001b[38;5;28;01mif\u001b[39;00m result \u001b[38;5;129;01mis\u001b[39;00m \u001b[38;5;129;01mnot\u001b[39;00m \u001b[38;5;28;01mNone\u001b[39;00m:\n",
      "File \u001b[1;32mC:\\ProgramData\\anaconda3\\lib\\urllib\\request.py:643\u001b[0m, in \u001b[0;36mHTTPDefaultErrorHandler.http_error_default\u001b[1;34m(self, req, fp, code, msg, hdrs)\u001b[0m\n\u001b[0;32m    642\u001b[0m \u001b[38;5;28;01mdef\u001b[39;00m \u001b[38;5;21mhttp_error_default\u001b[39m(\u001b[38;5;28mself\u001b[39m, req, fp, code, msg, hdrs):\n\u001b[1;32m--> 643\u001b[0m     \u001b[38;5;28;01mraise\u001b[39;00m HTTPError(req\u001b[38;5;241m.\u001b[39mfull_url, code, msg, hdrs, fp)\n",
      "\u001b[1;31mHTTPError\u001b[0m: HTTP Error 404: File not found",
      "\nDuring handling of the above exception, another exception occurred:\n",
      "\u001b[1;31mEndPointNotFound\u001b[0m                          Traceback (most recent call last)",
      "Cell \u001b[1;32mIn[5], line 11\u001b[0m\n\u001b[0;32m      9\u001b[0m sparql\u001b[38;5;241m.\u001b[39msetQuery(query1)\n\u001b[0;32m     10\u001b[0m sparql\u001b[38;5;241m.\u001b[39msetReturnFormat(JSON)\n\u001b[1;32m---> 11\u001b[0m results1 \u001b[38;5;241m=\u001b[39m \u001b[43msparql\u001b[49m\u001b[38;5;241;43m.\u001b[39;49m\u001b[43mquery\u001b[49m\u001b[43m(\u001b[49m\u001b[43m)\u001b[49m\u001b[38;5;241m.\u001b[39mconvert()\n\u001b[0;32m     13\u001b[0m \u001b[38;5;28mprint\u001b[39m(\u001b[38;5;124m\"\u001b[39m\u001b[38;5;124mEditoriales en la ontología:\u001b[39m\u001b[38;5;124m\"\u001b[39m)\n\u001b[0;32m     14\u001b[0m \u001b[38;5;28;01mfor\u001b[39;00m result \u001b[38;5;129;01min\u001b[39;00m results1[\u001b[38;5;124m\"\u001b[39m\u001b[38;5;124mresults\u001b[39m\u001b[38;5;124m\"\u001b[39m][\u001b[38;5;124m\"\u001b[39m\u001b[38;5;124mbindings\u001b[39m\u001b[38;5;124m\"\u001b[39m]:\n",
      "File \u001b[1;32mC:\\ProgramData\\anaconda3\\lib\\site-packages\\SPARQLWrapper\\Wrapper.py:960\u001b[0m, in \u001b[0;36mSPARQLWrapper.query\u001b[1;34m(self)\u001b[0m\n\u001b[0;32m    942\u001b[0m \u001b[38;5;28;01mdef\u001b[39;00m \u001b[38;5;21mquery\u001b[39m(\u001b[38;5;28mself\u001b[39m) \u001b[38;5;241m-\u001b[39m\u001b[38;5;241m>\u001b[39m \u001b[38;5;124m\"\u001b[39m\u001b[38;5;124mQueryResult\u001b[39m\u001b[38;5;124m\"\u001b[39m:\n\u001b[0;32m    943\u001b[0m     \u001b[38;5;124;03m\"\"\"\u001b[39;00m\n\u001b[0;32m    944\u001b[0m \u001b[38;5;124;03m    Execute the query.\u001b[39;00m\n\u001b[0;32m    945\u001b[0m \u001b[38;5;124;03m    Exceptions can be raised if either the URI is wrong or the HTTP sends back an error (this is also the\u001b[39;00m\n\u001b[1;32m   (...)\u001b[0m\n\u001b[0;32m    958\u001b[0m \u001b[38;5;124;03m    :rtype: :class:`QueryResult` instance\u001b[39;00m\n\u001b[0;32m    959\u001b[0m \u001b[38;5;124;03m    \"\"\"\u001b[39;00m\n\u001b[1;32m--> 960\u001b[0m     \u001b[38;5;28;01mreturn\u001b[39;00m QueryResult(\u001b[38;5;28;43mself\u001b[39;49m\u001b[38;5;241;43m.\u001b[39;49m\u001b[43m_query\u001b[49m\u001b[43m(\u001b[49m\u001b[43m)\u001b[49m)\n",
      "File \u001b[1;32mC:\\ProgramData\\anaconda3\\lib\\site-packages\\SPARQLWrapper\\Wrapper.py:932\u001b[0m, in \u001b[0;36mSPARQLWrapper._query\u001b[1;34m(self)\u001b[0m\n\u001b[0;32m    930\u001b[0m     \u001b[38;5;28;01mraise\u001b[39;00m QueryBadFormed(e\u001b[38;5;241m.\u001b[39mread())\n\u001b[0;32m    931\u001b[0m \u001b[38;5;28;01melif\u001b[39;00m e\u001b[38;5;241m.\u001b[39mcode \u001b[38;5;241m==\u001b[39m \u001b[38;5;241m404\u001b[39m:\n\u001b[1;32m--> 932\u001b[0m     \u001b[38;5;28;01mraise\u001b[39;00m EndPointNotFound(e\u001b[38;5;241m.\u001b[39mread())\n\u001b[0;32m    933\u001b[0m \u001b[38;5;28;01melif\u001b[39;00m e\u001b[38;5;241m.\u001b[39mcode \u001b[38;5;241m==\u001b[39m \u001b[38;5;241m401\u001b[39m:\n\u001b[0;32m    934\u001b[0m     \u001b[38;5;28;01mraise\u001b[39;00m Unauthorized(e\u001b[38;5;241m.\u001b[39mread())\n",
      "\u001b[1;31mEndPointNotFound\u001b[0m: EndPointNotFound: It was not possible to connect to the given endpoint: check it is correct. \n\nResponse:\nb'<!DOCTYPE HTML PUBLIC \"-//IETF//DTD HTML//EN\">\\n<html>\\n  <head>\\n    <title>Error HTTP/1.1 404 File not found</title>\\n  </head>\\n  <body>\\n    <h3>Error HTTP/1.1 404 File not found</h3><pre>\\nThe requested URL was not found    URI  = \\'/LibreriaUnal\\'\\n  </pre></body></html>\\n'"
     ]
    }
   ],
   "source": [
    "query1 = \"\"\"\n",
    "\n",
    "SELECT DISTINCT ?editorialNombre\n",
    "WHERE {\n",
    "  ?editor rdf:type <http://www.semanticweb.org/usuario/ontologies/2023/8/Biblioteca-Hemeroteca-Ludoteca#Editorial> .\n",
    "  ?editor <http://www.semanticweb.org/usuario/ontologies/2023/8/Biblioteca-Hemeroteca-Ludoteca#tieneNombre> ?editorialNombre .\n",
    "}\n",
    "ORDER BY ?editorialNombre\n",
    "\"\"\"\n",
    "sparql.setQuery(query1)\n",
    "sparql.setReturnFormat(JSON)\n",
    "results1 = sparql.query().convert()\n",
    "\n",
    "print(\"Editoriales en la ontología:\")\n",
    "for result in results1[\"results\"][\"bindings\"]:\n",
    "    print(result[\"editorialNombre\"][\"value\"])"
   ]
  },
  {
   "cell_type": "markdown",
   "id": "b399e713",
   "metadata": {},
   "source": [
    "# Consulta 2: Obtener los autores nacidos después de 1950"
   ]
  },
  {
   "cell_type": "code",
   "execution_count": null,
   "id": "1978f192",
   "metadata": {},
   "outputs": [],
   "source": [
    "query2 = \"\"\"\n",
    "SELECT DISTINCT ?autorNombre\n",
    "WHERE {\n",
    "  ?autor rdf:type <http://www.semanticweb.org/usuario/ontologies/2023/8/Biblioteca-Hemeroteca-Ludoteca#Autor> .\n",
    "  ?autor <http://www.semanticweb.org/usuario/ontologies/2023/8/Biblioteca-Hemeroteca-Ludoteca#añoDeNacimiento> ?nacimiento .\n",
    "  FILTER(?nacimiento > 1950)\n",
    "  ?autor <http://www.semanticweb.org/usuario/ontologies/2023/8/Biblioteca-Hemeroteca-Ludoteca#tieneNombre> ?autorNombre .\n",
    "}\n",
    "ORDER BY ?autorNombre\n",
    "\"\"\"\n",
    "sparql.setQuery(query2)\n",
    "results2 = sparql.query().convert()\n",
    "\n",
    "print(\"\\nAutores nacidos después de 1950:\")\n",
    "for result in results2[\"results\"][\"bindings\"]:\n",
    "    print(result[\"autorNombre\"][\"value\"])"
   ]
  },
  {
   "cell_type": "markdown",
   "id": "92be52c0",
   "metadata": {},
   "source": [
    "# Consulta 3: Obtener el nombre de la editorial del libro \"Cien Años De Soledad\""
   ]
  },
  {
   "cell_type": "code",
   "execution_count": null,
   "id": "d7d06c8c",
   "metadata": {},
   "outputs": [],
   "source": [
    "query3 = \"\"\"\n",
    "SELECT ?editorialNombre\n",
    "WHERE {\n",
    "  ?libro rdf:type <http://www.semanticweb.org/usuario/ontologies/2023/8/Biblioteca-Hemeroteca-Ludoteca#Libro> .\n",
    "  ?libro <http://www.semanticweb.org/usuario/ontologies/2023/8/Biblioteca-Hemeroteca-Ludoteca#tieneTitulo> \"Cien Años De Soledad\" .\n",
    "  ?libro <http://www.semanticweb.org/usuario/ontologies/2023/8/Biblioteca-Hemeroteca-Ludoteca#tieneEditorial> ?editorial .\n",
    "  ?editorial <http://www.semanticweb.org/usuario/ontologies/2023/8/Biblioteca-Hemeroteca-Ludoteca#tieneNombre> ?editorialNombre .\n",
    "}\n",
    "\"\"\"\n",
    "sparql.setQuery(query3)\n",
    "results3 = sparql.query().convert()\n",
    "\n",
    "if len(results3[\"results\"][\"bindings\"]) > 0:\n",
    "    editorial_cien_anos = results3[\"results\"][\"bindings\"][0][\"editorialNombre\"][\"value\"]\n",
    "    print(f\"\\nEditorial del libro 'Cien Años De Soledad': {editorial_cien_anos}\")\n",
    "else:\n",
    "    print(\"\\nEl libro 'Cien Años De Soledad' no se encontró en la ontología.\")"
   ]
  },
  {
   "cell_type": "markdown",
   "id": "01efadc6",
   "metadata": {},
   "source": [
    "# Consulta 4: Obtener los superhéroes y sus cómics"
   ]
  },
  {
   "cell_type": "code",
   "execution_count": null,
   "id": "c70a04b4",
   "metadata": {},
   "outputs": [],
   "source": [
    "query4 = \"\"\"\n",
    "SELECT DISTINCT ?superheroeNombre ?comicTitulo\n",
    "WHERE {\n",
    "  ?superheroe rdf:type <http://www.semanticweb.org/usuario/ontologies/2023/8/Biblioteca-Hemeroteca-Ludoteca#Superheroe> .\n",
    "  ?superheroe <http://www.semanticweb.org/usuario/ontologies/2023/8/Biblioteca-Hemeroteca-Ludoteca#tieneNombre> ?superheroeNombre .\n",
    "  ?comic rdf:type <http://www.semanticweb.org/usuario/ontologies/2023/8/Biblioteca-Hemeroteca-Ludoteca#Comic> .\n",
    "  ?comic <http://www.semanticweb.org/usuario/ontologies/2023/8/Biblioteca-Hemeroteca-Ludoteca#tieneSuperheroe> ?superheroe .\n",
    "  ?comic <http://www.semanticweb.org/usuario/ontologies/2023/8/Biblioteca-Hemeroteca-Ludoteca#tieneTitulo> ?comicTitulo .\n",
    "}\n",
    "ORDER BY ?superheroeNombre ?comicTitulo\n",
    "\"\"\"\n",
    "sparql.setQuery(query4)\n",
    "results4 = sparql.query().convert()\n",
    "\n",
    "print(\"\\nSuperhéroes y sus cómics:\")\n",
    "current_superhero = \"\"\n",
    "for result in results4[\"results\"][\"bindings\"]:\n",
    "    superheroe_nombre = result[\"superheroeNombre\"][\"value\"]\n",
    "    comic_titulo = result[\"comicTitulo\"][\"value\"]\n",
    "    if superheroe_nombre != current_superhero:\n",
    "        print(f\"\\nSuperhéroe: {superheroe_nombre}\")\n",
    "        current_superhero = superheroe_nombre\n",
    "    print(f\"Cómic: {comic_titulo}\")"
   ]
  }
 ],
 "metadata": {
  "kernelspec": {
   "display_name": "Python 3 (ipykernel)",
   "language": "python",
   "name": "python3"
  },
  "language_info": {
   "codemirror_mode": {
    "name": "ipython",
    "version": 3
   },
   "file_extension": ".py",
   "mimetype": "text/x-python",
   "name": "python",
   "nbconvert_exporter": "python",
   "pygments_lexer": "ipython3",
   "version": "3.10.9"
  }
 },
 "nbformat": 4,
 "nbformat_minor": 5
}
