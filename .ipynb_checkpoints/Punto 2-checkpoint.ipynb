{
 "cells": [
  {
   "cell_type": "markdown",
   "id": "42e340c9",
   "metadata": {},
   "source": [
    "# Inicio"
   ]
  },
  {
   "cell_type": "code",
   "execution_count": 50,
   "id": "acf0a0c2",
   "metadata": {},
   "outputs": [],
   "source": [
    "from SPARQLWrapper import SPARQLWrapper, JSON\n",
    "\n",
    "# Definir la URL del punto de acceso SPARQL de Virtuoso\n",
    "sparql_endpoint = \"http://localhost:8890/sparql\"\n",
    "\n",
    "# Crear una instancia de SPARQLWrapper\n",
    "sparql = SPARQLWrapper(sparql_endpoint)"
   ]
  },
  {
   "cell_type": "markdown",
   "id": "a13e52b4",
   "metadata": {},
   "source": [
    "# Consulta 1 (SparQLWrapper): Obtener los nombres de todas las editoriales en la ontología"
   ]
  },
  {
   "cell_type": "code",
   "execution_count": 51,
   "id": "9c729c9f",
   "metadata": {},
   "outputs": [
    {
     "name": "stdout",
     "output_type": "stream",
     "text": [
      "Editoriales en la ontología:\n",
      "Detective Comics\n",
      "Hakusensha\n",
      "Marvel Comics\n",
      "Shukan Shonen Jump\n"
     ]
    }
   ],
   "source": [
    "query1 = \"\"\"\n",
    "PREFIX bib: <http://localhost:8890/Biblioteca-Hemeroteca-Ludoteca/>\n",
    "SELECT DISTINCT ?editorialNombre\n",
    "WHERE {\n",
    "  ?editor rdf:type bib:Editorial .\n",
    "  ?editor bib:tieneNombre ?editorialNombre .\n",
    "}\n",
    "ORDER BY ?editorialNombre\n",
    "\"\"\"\n",
    "sparql.setQuery(query1)\n",
    "sparql.setReturnFormat(JSON)\n",
    "results1 = sparql.query().convert()\n",
    "\n",
    "print(\"Editoriales en la ontología:\")\n",
    "for result in results1[\"results\"][\"bindings\"]:\n",
    "    print(result[\"editorialNombre\"][\"value\"])"
   ]
  },
  {
   "cell_type": "markdown",
   "id": "fe572d83",
   "metadata": {},
   "source": [
    "# Consulta 2 (SparQLWrapper): Obtener los autores nacidos después de 1950"
   ]
  },
  {
   "cell_type": "code",
   "execution_count": 56,
   "id": "ceec83a1",
   "metadata": {},
   "outputs": [
    {
     "name": "stdout",
     "output_type": "stream",
     "text": [
      "\n",
      "Autores nacidos después de 1900:\n",
      "Dante Alighieri\n",
      "Gabriel Garcia Marquez\n"
     ]
    }
   ],
   "source": [
    "query2 = \"\"\"\n",
    "PREFIX bib: <http://localhost:8890/Biblioteca-Hemeroteca-Ludoteca/>\n",
    "SELECT DISTINCT ?autorNombre, ?paisOrigenLabel\n",
    "WHERE {\n",
    "  ?autor rdf:type bib:Autor .\n",
    "  ?autor bib:añoDeNacimiento ?nacimiento .\n",
    "  ?autor bib:tieneNombre ?autorNombre .\n",
    "  FILTER(?nacimiento > 1900)\n",
    "} ORDER BY ?autorNombre\n",
    "\"\"\"\n",
    "sparql.setQuery(query2)\n",
    "results2 = sparql.query().convert()\n",
    "\n",
    "print(\"\\nAutores nacidos después de 1900:\")\n",
    "for result in results2[\"results\"][\"bindings\"]:\n",
    "    print(result[\"autorNombre\"][\"value\"])"
   ]
  },
  {
   "cell_type": "markdown",
   "id": "82fb22d1",
   "metadata": {},
   "source": [
    "# Consulta 3 (SparQLWrapper): Obtener el nombre y la editorial del libro"
   ]
  },
  {
   "cell_type": "code",
   "execution_count": 53,
   "id": "6c912152",
   "metadata": {},
   "outputs": [
    {
     "name": "stdout",
     "output_type": "stream",
     "text": [
      "{'head': {'link': [], 'vars': ['libr']}, 'results': {'distinct': False, 'ordered': True, 'bindings': []}}\n",
      "\n",
      " nombre y la editorial del libro:\n"
     ]
    }
   ],
   "source": [
    "query3 = \"\"\"\n",
    "PREFIX bib: <http://localhost:8890/Biblioteca-Hemeroteca-Ludoteca/>\n",
    "SELECT ?libr\n",
    "WHERE {\n",
    "  ?libr a bib:Libro .\n",
    "} \n",
    "\"\"\"\n",
    "sparql.setQuery(query3)\n",
    "results3 = sparql.query().convert()\n",
    "print(results3)\n",
    "print(\"\\n nombre y la editorial del libro:\")\n",
    "for result in results3[\"results\"][\"bindings\"]:\n",
    "    print(result[\"editorialNombre\"][\"value\"], result[\"tituloLibro\"][\"value\"])"
   ]
  },
  {
   "cell_type": "markdown",
   "id": "9ead5535",
   "metadata": {},
   "source": [
    "# Consulta 4 (SparQLWrapper): Obtener los superhéroes y sus cómics"
   ]
  },
  {
   "cell_type": "code",
   "execution_count": 43,
   "id": "c53b746d",
   "metadata": {},
   "outputs": [
    {
     "name": "stdout",
     "output_type": "stream",
     "text": [
      "\n",
      "Superhéroes y sus cómics:\n"
     ]
    }
   ],
   "source": [
    "query4 = \"\"\"\n",
    "PREFIX bib: <http://localhost:8890/Biblioteca-Hemeroteca-Ludoteca/>\n",
    "SELECT DISTINCT ?superheroeNombre ?comicTitulo\n",
    "WHERE {\n",
    "  ?superheroe rdf:type bib:Superheroe .\n",
    "  ?superheroe bib:tieneNombre ?superheroeNombre .\n",
    "  ?comic rdf:type bib:Comic .\n",
    "  ?comic bib:tieneSuperheroe ?superheroe .\n",
    "  ?comic bib:tieneTitulo ?comicTitulo .\n",
    "}\n",
    "ORDER BY ?superheroeNombre ?comicTitulo\n",
    "\"\"\"\n",
    "sparql.setQuery(query4)\n",
    "results4 = sparql.query().convert()\n",
    "\n",
    "print(\"\\nSuperhéroes y sus cómics:\")\n",
    "current_superhero = \"\"\n",
    "for result in results4[\"results\"][\"bindings\"]:\n",
    "    superheroe_nombre = result[\"superheroeNombre\"][\"value\"]\n",
    "    comic_titulo = result[\"comicTitulo\"][\"value\"]\n",
    "    if superheroe_nombre != current_superhero:\n",
    "        print(f\"\\nSuperhéroe: {superheroe_nombre}\")\n",
    "        current_superhero = superheroe_nombre\n",
    "    print(f\"Cómic: {comic_titulo}\")"
   ]
  },
  {
   "cell_type": "markdown",
   "id": "88958fbf",
   "metadata": {},
   "source": [
    "# Consulta 5 (SparQLWrapper): Obtener los nombres de los socios"
   ]
  },
  {
   "cell_type": "code",
   "execution_count": 58,
   "id": "1eda0513",
   "metadata": {},
   "outputs": [
    {
     "name": "stdout",
     "output_type": "stream",
     "text": [
      "\n",
      "Autores nacidos después de 1900:\n"
     ]
    }
   ],
   "source": [
    "query2 = \"\"\"\n",
    "PREFIX bib: <http://localhost:8890/Biblioteca-Hemeroteca-Ludoteca/>\n",
    "SELECT DISTINCT ?socioNombre\n",
    "WHERE {\n",
    "  ?socio rdf:type bib:Socio .\n",
    "  ?socio bib:tieneNombre ?socioNombre .\n",
    "} ORDER BY ?socioNombre\n",
    "\"\"\"\n",
    "sparql.setQuery(query2)\n",
    "results2 = sparql.query().convert()\n",
    "\n",
    "print(\"\\nAutores nacidos después de 1900:\")\n",
    "for result in results2[\"results\"][\"bindings\"]:\n",
    "    print(result[\"autorNombre\"][\"value\"])"
   ]
  },
  {
   "cell_type": "markdown",
   "id": "2e7277ff",
   "metadata": {},
   "source": [
    "# Consulta 1 (RDFLib)"
   ]
  },
  {
   "cell_type": "code",
   "execution_count": null,
   "id": "bd577f19",
   "metadata": {},
   "outputs": [],
   "source": []
  },
  {
   "cell_type": "markdown",
   "id": "70531d73",
   "metadata": {},
   "source": [
    "# Consulta 2 (RDFLib)"
   ]
  },
  {
   "cell_type": "code",
   "execution_count": null,
   "id": "34cab444",
   "metadata": {},
   "outputs": [],
   "source": []
  },
  {
   "cell_type": "code",
   "execution_count": null,
   "id": "3409b993",
   "metadata": {},
   "outputs": [],
   "source": []
  }
 ],
 "metadata": {
  "kernelspec": {
   "display_name": "Python 3 (ipykernel)",
   "language": "python",
   "name": "python3"
  },
  "language_info": {
   "codemirror_mode": {
    "name": "ipython",
    "version": 3
   },
   "file_extension": ".py",
   "mimetype": "text/x-python",
   "name": "python",
   "nbconvert_exporter": "python",
   "pygments_lexer": "ipython3",
   "version": "3.10.9"
  }
 },
 "nbformat": 4,
 "nbformat_minor": 5
}
