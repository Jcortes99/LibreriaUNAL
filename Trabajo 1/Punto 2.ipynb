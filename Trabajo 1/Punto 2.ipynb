{
 "cells": [
  {
   "cell_type": "markdown",
   "id": "42e340c9",
   "metadata": {},
   "source": [
    "# Inicio"
   ]
  },
  {
   "cell_type": "markdown",
   "id": "fcd2e473",
   "metadata": {},
   "source": [
    "Se ejecuta el codigo en este notebook y se muestran los respectivos resultados de las consultas."
   ]
  },
  {
   "cell_type": "code",
   "execution_count": 31,
   "id": "acf0a0c2",
   "metadata": {},
   "outputs": [],
   "source": [
    "from SPARQLWrapper import SPARQLWrapper, JSON\n",
    "\n",
    "# Definir la URL del punto de acceso SPARQL de Virtuoso\n",
    "sparql_endpoint = \"http://localhost:8890/sparql\"\n",
    "\n",
    "# Crear una instancia de SPARQLWrapper\n",
    "sparql = SPARQLWrapper(sparql_endpoint)"
   ]
  },
  {
   "cell_type": "markdown",
   "id": "a13e52b4",
   "metadata": {},
   "source": [
    "# Consulta 1 (SparQLWrapper): Obtener los nombres de todas las editoriales en la ontología"
   ]
  },
  {
   "cell_type": "code",
   "execution_count": 32,
   "id": "9c729c9f",
   "metadata": {},
   "outputs": [
    {
     "name": "stdout",
     "output_type": "stream",
     "text": [
      "Editoriales en la ontología:\n",
      "Detective Comics\n",
      "Editorial Norma\n",
      "Editorial Planeta\n",
      "Editorial Universal\n",
      "Hakusensha\n",
      "Marvel Comics\n",
      "Penguin Random House\n",
      "Shukan Shonen Jump\n"
     ]
    }
   ],
   "source": [
    "query1 = \"\"\"\n",
    "PREFIX bib: <http://localhost:8890/Biblioteca-Hemeroteca-Ludoteca/>\n",
    "SELECT DISTINCT ?editorialNombre\n",
    "WHERE {\n",
    "  ?editor rdf:type bib:Editorial .\n",
    "  ?editor bib:tieneNombre ?editorialNombre .\n",
    "}\n",
    "ORDER BY ?editorialNombre\n",
    "\"\"\"\n",
    "sparql.setQuery(query1)\n",
    "sparql.setReturnFormat(JSON)\n",
    "results1 = sparql.query().convert()\n",
    "\n",
    "print(\"Editoriales en la ontología:\")\n",
    "for result in results1[\"results\"][\"bindings\"]:\n",
    "    print(result[\"editorialNombre\"][\"value\"])"
   ]
  },
  {
   "cell_type": "markdown",
   "id": "fe572d83",
   "metadata": {},
   "source": [
    "# Consulta 2 (SparQLWrapper): Obtener los autores nacidos después de 1950"
   ]
  },
  {
   "cell_type": "code",
   "execution_count": 33,
   "id": "ceec83a1",
   "metadata": {},
   "outputs": [
    {
     "name": "stdout",
     "output_type": "stream",
     "text": [
      "\n",
      "Autores nacidos después de 1900:\n",
      "Gabriel Garcia Marquez\n"
     ]
    }
   ],
   "source": [
    "query2 = \"\"\"\n",
    "PREFIX bib: <http://localhost:8890/Biblioteca-Hemeroteca-Ludoteca/>\n",
    "SELECT DISTINCT ?autorNombre, ?paisOrigenLabel\n",
    "WHERE {\n",
    "  ?autor rdf:type bib:Autor .\n",
    "  ?autor bib:añoDeNacimiento ?nacimiento .\n",
    "  ?autor bib:tieneNombre ?autorNombre .\n",
    "  FILTER(?nacimiento > 1900)\n",
    "} ORDER BY ?autorNombre\n",
    "\"\"\"\n",
    "sparql.setQuery(query2)\n",
    "results2 = sparql.query().convert()\n",
    "\n",
    "print(\"\\nAutores nacidos después de 1900:\")\n",
    "for result in results2[\"results\"][\"bindings\"]:\n",
    "    print(result[\"autorNombre\"][\"value\"])"
   ]
  },
  {
   "cell_type": "markdown",
   "id": "82fb22d1",
   "metadata": {},
   "source": [
    "# Consulta 3 (SparQLWrapper): Obtener el nombre y la editorial del libro"
   ]
  },
  {
   "cell_type": "code",
   "execution_count": 45,
   "id": "6c912152",
   "metadata": {},
   "outputs": [
    {
     "name": "stdout",
     "output_type": "stream",
     "text": [
      "\n",
      " nombre y la editorial del libro:\n",
      "Editorial Norma El Coronel No Tiene Quien Le Escriba\n",
      "Editorial Planeta Cien Años De Soledad\n",
      "Editorial Universal El amor En Tiempos De Colera\n"
     ]
    }
   ],
   "source": [
    "query3 = \"\"\"\n",
    "PREFIX bib: <http://localhost:8890/Biblioteca-Hemeroteca-Ludoteca/>\n",
    "SELECT DISTINCT ?titulo ?editorial\n",
    "WHERE {\n",
    "  OPTIONAL {\n",
    "    {?libr a bib:Prestado.}\n",
    "    UNION\n",
    "    { ?libr a bib:Disponible. }\n",
    "  }\n",
    "  ?libr bib:tieneTitulo ?titulo.\n",
    "  ?libr bib:tieneEditorial ?editor.\n",
    "  ?editor bib:tieneNombre ?editorial.\n",
    "} ORDER BY ?editorial\n",
    "\"\"\"\n",
    "sparql.setQuery(query3)\n",
    "results3 = sparql.query().convert()\n",
    "# print(results3)\n",
    "print(\"\\n nombre y la editorial del libro:\")\n",
    "for result in results3[\"results\"][\"bindings\"]:\n",
    "    print(result[\"editorial\"][\"value\"], result[\"titulo\"][\"value\"]) \n"
   ]
  },
  {
   "cell_type": "markdown",
   "id": "88958fbf",
   "metadata": {},
   "source": [
    "# Consulta 4 (SparQLWrapper): Obtener los nombres de los socios"
   ]
  },
  {
   "cell_type": "code",
   "execution_count": 73,
   "id": "1eda0513",
   "metadata": {},
   "outputs": [
    {
     "name": "stdout",
     "output_type": "stream",
     "text": [
      "\n",
      "Socios:\n",
      "Juan Jaramillo\n",
      "Luis Lagos\n",
      "Luna Lunera\n",
      "Marta Martinez\n"
     ]
    }
   ],
   "source": [
    "query2 = \"\"\"\n",
    "PREFIX bib: <http://localhost:8890/Biblioteca-Hemeroteca-Ludoteca/>\n",
    "SELECT DISTINCT ?socioNombre\n",
    "WHERE {\n",
    "  ?socio rdf:type bib:Socio .\n",
    "  ?socio bib:tieneNombre ?socioNombre .\n",
    "} ORDER BY ?socioNombre\n",
    "\"\"\"\n",
    "sparql.setQuery(query2)\n",
    "results2 = sparql.query().convert()\n",
    "\n",
    "print(\"\\nSocios:\")\n",
    "for result in results2[\"results\"][\"bindings\"]:\n",
    "    print(result[\"socioNombre\"][\"value\"])"
   ]
  },
  {
   "cell_type": "markdown",
   "id": "2e7277ff",
   "metadata": {},
   "source": [
    "# Consulta 1 (RDFLib)"
   ]
  },
  {
   "cell_type": "code",
   "execution_count": 87,
   "id": "bd577f19",
   "metadata": {},
   "outputs": [
    {
     "name": "stdout",
     "output_type": "stream",
     "text": [
      "Juan Jaramillo\n",
      "Luis Lagos\n",
      "Luna Lunera\n",
      "Marta Martinez\n"
     ]
    }
   ],
   "source": [
    "# Importar rdflib\n",
    "#import elementos básicos de RDF\n",
    "from rdflib import Literal, BNode, URIRef, Graph, Namespace\n",
    "# Crear un grafo vacio\n",
    "g = Graph()\n",
    "\n",
    "# Cargar el grafo desde un archivo local en formato xml\n",
    "g.parse(\"C:\\\\Users\\\\Usuario\\\\Documents\\\\University\\\\Recuperacion Web\\\\LibreriaUNAL\\\\LibreriaUnal.ttl\", format=\"ttl\")\n",
    "\n",
    "consulta = \"\"\"\n",
    "PREFIX bib: <http://localhost:8890/Biblioteca-Hemeroteca-Ludoteca/>\n",
    "SELECT DISTINCT ?socioNombre\n",
    "WHERE {\n",
    "  ?socio rdf:type bib:Socio .\n",
    "  ?socio bib:tieneNombre ?socioNombre .\n",
    "} ORDER BY ?socioNombre\n",
    "\"\"\"\n",
    "for row in g.query(consulta):\n",
    "    print(row.socioNombre)"
   ]
  },
  {
   "cell_type": "markdown",
   "id": "70531d73",
   "metadata": {},
   "source": [
    "# Consulta 2 (RDFLib)"
   ]
  },
  {
   "cell_type": "code",
   "execution_count": 89,
   "id": "34cab444",
   "metadata": {},
   "outputs": [
    {
     "name": "stdout",
     "output_type": "stream",
     "text": [
      "Detective Comics\n",
      "Editorial Norma\n",
      "Editorial Planeta\n",
      "Editorial Universal\n",
      "Hakusensha\n",
      "Marvel Comics\n",
      "Penguin Random House\n",
      "Shukan Shonen Jump\n"
     ]
    }
   ],
   "source": [
    "# Importar rdflib\n",
    "#import elementos básicos de RDF\n",
    "from rdflib import Literal, BNode, URIRef, Graph, Namespace\n",
    "# Crear un grafo vacio\n",
    "g = Graph()\n",
    "\n",
    "# Cargar el grafo desde un archivo local en formato xml\n",
    "g.parse(\"C:\\\\Users\\\\Usuario\\\\Documents\\\\University\\\\Recuperacion Web\\\\LibreriaUNAL\\\\LibreriaUnal.ttl\", format=\"ttl\")\n",
    "\n",
    "consulta = \"\"\"\n",
    "PREFIX bib: <http://localhost:8890/Biblioteca-Hemeroteca-Ludoteca/>\n",
    "SELECT DISTINCT ?editorialNombre\n",
    "WHERE {\n",
    "  ?editor rdf:type bib:Editorial .\n",
    "  ?editor bib:tieneNombre ?editorialNombre .\n",
    "}\n",
    "ORDER BY ?editorialNombre\n",
    "\"\"\"\n",
    "for row in g.query(consulta):\n",
    "    print(row.editorialNombre)"
   ]
  },
  {
   "cell_type": "code",
   "execution_count": null,
   "id": "3409b993",
   "metadata": {},
   "outputs": [],
   "source": []
  }
 ],
 "metadata": {
  "kernelspec": {
   "display_name": "Python 3 (ipykernel)",
   "language": "python",
   "name": "python3"
  },
  "language_info": {
   "codemirror_mode": {
    "name": "ipython",
    "version": 3
   },
   "file_extension": ".py",
   "mimetype": "text/x-python",
   "name": "python",
   "nbconvert_exporter": "python",
   "pygments_lexer": "ipython3",
   "version": "3.11.4"
  }
 },
 "nbformat": 4,
 "nbformat_minor": 5
}
